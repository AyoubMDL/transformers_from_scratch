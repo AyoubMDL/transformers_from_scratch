{
  "nbformat": 4,
  "nbformat_minor": 0,
  "metadata": {
    "colab": {
      "provenance": [],
      "authorship_tag": "ABX9TyOxJCd/zhX9BP/uZ2KcVRNI",
      "include_colab_link": true
    },
    "kernelspec": {
      "name": "python3",
      "display_name": "Python 3"
    },
    "language_info": {
      "name": "python"
    }
  },
  "cells": [
    {
      "cell_type": "markdown",
      "metadata": {
        "id": "view-in-github",
        "colab_type": "text"
      },
      "source": [
        "<a href=\"https://colab.research.google.com/github/AyoubMDL/transformers_from_scratch/blob/main/layer_normalization.ipynb\" target=\"_parent\"><img src=\"https://colab.research.google.com/assets/colab-badge.svg\" alt=\"Open In Colab\"/></a>"
      ]
    },
    {
      "cell_type": "code",
      "execution_count": 2,
      "metadata": {
        "id": "18_xl7yw5bPp"
      },
      "outputs": [],
      "source": [
        "import torch\n",
        "import torch.nn as nn   "
      ]
    },
    {
      "cell_type": "code",
      "source": [
        "inputs = torch.Tensor([[[0.1, 0.6, 0.8], [0.4, 0.5, 0.1]]])\n",
        "inputs.shape"
      ],
      "metadata": {
        "colab": {
          "base_uri": "https://localhost:8080/"
        },
        "id": "QU0enEGo6H_a",
        "outputId": "8a9fe5cb-cc2c-4a37-b37d-f8f56d1f7d04"
      },
      "execution_count": 4,
      "outputs": [
        {
          "output_type": "execute_result",
          "data": {
            "text/plain": [
              "torch.Size([1, 2, 3])"
            ]
          },
          "metadata": {},
          "execution_count": 4
        }
      ]
    },
    {
      "cell_type": "code",
      "source": [
        "batch_size, seq_length, emb_size = inputs.size()"
      ],
      "metadata": {
        "id": "0mxGDpYhHWyO"
      },
      "execution_count": 10,
      "outputs": []
    },
    {
      "cell_type": "code",
      "source": [
        "inputs = inputs.reshape(seq_length, batch_size, emb_size)\n",
        "inputs.shape"
      ],
      "metadata": {
        "colab": {
          "base_uri": "https://localhost:8080/"
        },
        "id": "5sldIxRiILa7",
        "outputId": "4384a834-5be5-4bbd-b1ad-480fb9ad4702"
      },
      "execution_count": 11,
      "outputs": [
        {
          "output_type": "execute_result",
          "data": {
            "text/plain": [
              "torch.Size([2, 1, 3])"
            ]
          },
          "metadata": {},
          "execution_count": 11
        }
      ]
    },
    {
      "cell_type": "code",
      "source": [
        "parameter_shape = inputs.size()[-2:]\n",
        "parameter_shape"
      ],
      "metadata": {
        "colab": {
          "base_uri": "https://localhost:8080/"
        },
        "id": "SoSaZuxGHgps",
        "outputId": "03df8f84-5019-42c4-a298-fa28871cd966"
      },
      "execution_count": 12,
      "outputs": [
        {
          "output_type": "execute_result",
          "data": {
            "text/plain": [
              "torch.Size([1, 3])"
            ]
          },
          "metadata": {},
          "execution_count": 12
        }
      ]
    },
    {
      "cell_type": "code",
      "source": [
        "gamma = nn.Parameter(torch.ones(parameter_shape))\n",
        "beta = nn.Parameter(torch.zeros(parameter_shape))"
      ],
      "metadata": {
        "id": "eRNrvbEqHosM"
      },
      "execution_count": 13,
      "outputs": []
    },
    {
      "cell_type": "code",
      "source": [
        "gamma, beta"
      ],
      "metadata": {
        "colab": {
          "base_uri": "https://localhost:8080/"
        },
        "id": "2cWD1YMgH28b",
        "outputId": "435a8538-fa11-41f4-91ff-362a53a1e67f"
      },
      "execution_count": 14,
      "outputs": [
        {
          "output_type": "execute_result",
          "data": {
            "text/plain": [
              "(Parameter containing:\n",
              " tensor([[1., 1., 1.]], requires_grad=True),\n",
              " Parameter containing:\n",
              " tensor([[0., 0., 0.]], requires_grad=True))"
            ]
          },
          "metadata": {},
          "execution_count": 14
        }
      ]
    },
    {
      "cell_type": "code",
      "source": [
        "gamma.shape"
      ],
      "metadata": {
        "colab": {
          "base_uri": "https://localhost:8080/"
        },
        "id": "YmNydeYuH4Eb",
        "outputId": "4cb64665-cb71-4d2e-f102-d14b2e858ffd"
      },
      "execution_count": 15,
      "outputs": [
        {
          "output_type": "execute_result",
          "data": {
            "text/plain": [
              "torch.Size([1, 3])"
            ]
          },
          "metadata": {},
          "execution_count": 15
        }
      ]
    },
    {
      "cell_type": "code",
      "source": [
        "dims = [-(i + 1) for i in range(len(parameter_shape))]\n",
        "dims"
      ],
      "metadata": {
        "colab": {
          "base_uri": "https://localhost:8080/"
        },
        "id": "4MvCeAEYIElq",
        "outputId": "48b697b7-db9f-442a-8c24-a31a29846775"
      },
      "execution_count": 16,
      "outputs": [
        {
          "output_type": "execute_result",
          "data": {
            "text/plain": [
              "[-1, -2]"
            ]
          },
          "metadata": {},
          "execution_count": 16
        }
      ]
    },
    {
      "cell_type": "code",
      "source": [
        "mean = inputs.mean(dim=dims, keepdim=True)\n",
        "mean"
      ],
      "metadata": {
        "colab": {
          "base_uri": "https://localhost:8080/"
        },
        "id": "JEmA-ZT2IwHC",
        "outputId": "e0f80e87-5bdc-490e-a72c-14debe48467d"
      },
      "execution_count": 18,
      "outputs": [
        {
          "output_type": "execute_result",
          "data": {
            "text/plain": [
              "tensor([[[0.5000]],\n",
              "\n",
              "        [[0.3333]]])"
            ]
          },
          "metadata": {},
          "execution_count": 18
        }
      ]
    },
    {
      "cell_type": "code",
      "source": [
        "mean.shape"
      ],
      "metadata": {
        "colab": {
          "base_uri": "https://localhost:8080/"
        },
        "id": "CWAGx9pEI6di",
        "outputId": "dfb8f90d-440f-4777-dd50-faec9bdf7285"
      },
      "execution_count": 20,
      "outputs": [
        {
          "output_type": "execute_result",
          "data": {
            "text/plain": [
              "torch.Size([2, 1, 1])"
            ]
          },
          "metadata": {},
          "execution_count": 20
        }
      ]
    },
    {
      "cell_type": "code",
      "source": [
        "var = ((inputs - mean) ** 2).mean(dim=dims, keepdim=True)\n",
        "epsilon = 1e-5\n",
        "std = (var + epsilon).sqrt()\n",
        "std"
      ],
      "metadata": {
        "colab": {
          "base_uri": "https://localhost:8080/"
        },
        "id": "7g2DFUM0JJmb",
        "outputId": "3c4a245e-4d05-4605-e61f-4e33ce0f7c0b"
      },
      "execution_count": 21,
      "outputs": [
        {
          "output_type": "execute_result",
          "data": {
            "text/plain": [
              "tensor([[[0.2944]],\n",
              "\n",
              "        [[0.1700]]])"
            ]
          },
          "metadata": {},
          "execution_count": 21
        }
      ]
    },
    {
      "cell_type": "code",
      "source": [
        "y = (inputs - mean) / std\n",
        "y"
      ],
      "metadata": {
        "colab": {
          "base_uri": "https://localhost:8080/"
        },
        "id": "gkU6GnWPJa_2",
        "outputId": "c8fdbef5-c850-4da5-a1dc-bc4078204ebb"
      },
      "execution_count": 22,
      "outputs": [
        {
          "output_type": "execute_result",
          "data": {
            "text/plain": [
              "tensor([[[-1.3587,  0.3397,  1.0190]],\n",
              "\n",
              "        [[ 0.3922,  0.9804, -1.3726]]])"
            ]
          },
          "metadata": {},
          "execution_count": 22
        }
      ]
    },
    {
      "cell_type": "code",
      "source": [
        "out = gamma * y + beta"
      ],
      "metadata": {
        "id": "uJMX_RroJgmk"
      },
      "execution_count": 23,
      "outputs": []
    },
    {
      "cell_type": "code",
      "source": [
        "out"
      ],
      "metadata": {
        "colab": {
          "base_uri": "https://localhost:8080/"
        },
        "id": "ppTzxRtrJosN",
        "outputId": "87a84f0c-c9c0-4cab-e390-532a0f1a8552"
      },
      "execution_count": 24,
      "outputs": [
        {
          "output_type": "execute_result",
          "data": {
            "text/plain": [
              "tensor([[[-1.3587,  0.3397,  1.0190]],\n",
              "\n",
              "        [[ 0.3922,  0.9804, -1.3726]]], grad_fn=<AddBackward0>)"
            ]
          },
          "metadata": {},
          "execution_count": 24
        }
      ]
    },
    {
      "cell_type": "code",
      "source": [
        "class LayerNormalization(nn.Module):\n",
        "    def __init__(self, parameters_shape, eps=1e-5):\n",
        "        super().__init__()\n",
        "        self.parameters_shape = parameters_shape\n",
        "        self.eps = eps\n",
        "        self.gamma = nn.Parameter(torch.ones(parameters_shape))\n",
        "        self.beta = nn.Parameter(torch.zeros(parameters_shape))\n",
        "\n",
        "    def forward(self, input):\n",
        "        dims = [-(i + 1) for i in range(len(parameter_shape))]\n",
        "        mean = inputs.mean(dim=dims, keepdim=True)\n",
        "        var = ((inputs - mean) ** 2).mean(dim=dims, keepdim=True)\n",
        "        std = (var + self.eps).sqrt()\n",
        "        y = (inputs - mean) / std\n",
        "        out = self.gamma * y + self.beta\n",
        "        \n",
        "        return out"
      ],
      "metadata": {
        "id": "QAqFQkltJphd"
      },
      "execution_count": 36,
      "outputs": []
    },
    {
      "cell_type": "code",
      "source": [
        "batch_size = 5\n",
        "seq_length = 4\n",
        "emb_dim = 6\n",
        "\n",
        "inputs = torch.randn(seq_length, batch_size, emb_dim)\n",
        "inputs.shape"
      ],
      "metadata": {
        "colab": {
          "base_uri": "https://localhost:8080/"
        },
        "id": "ihULzzsEKxl6",
        "outputId": "215ac3e7-9420-447e-ad57-2c726349dd02"
      },
      "execution_count": 37,
      "outputs": [
        {
          "output_type": "execute_result",
          "data": {
            "text/plain": [
              "torch.Size([4, 5, 6])"
            ]
          },
          "metadata": {},
          "execution_count": 37
        }
      ]
    },
    {
      "cell_type": "code",
      "source": [
        "ln = LayerNormalization(inputs.size()[-2:])"
      ],
      "metadata": {
        "id": "cqJsMEXVLBHo"
      },
      "execution_count": 38,
      "outputs": []
    },
    {
      "cell_type": "code",
      "source": [
        "out = ln(inputs)"
      ],
      "metadata": {
        "id": "KHLkmqj_LMAJ"
      },
      "execution_count": 39,
      "outputs": []
    },
    {
      "cell_type": "code",
      "source": [
        "out"
      ],
      "metadata": {
        "colab": {
          "base_uri": "https://localhost:8080/"
        },
        "id": "1BUHNOOWLPHK",
        "outputId": "9277b563-cb7d-4e56-8341-fd29f8063ede"
      },
      "execution_count": 40,
      "outputs": [
        {
          "output_type": "execute_result",
          "data": {
            "text/plain": [
              "tensor([[[-8.0180e-01,  1.6604e+00, -3.8528e-01, -1.3219e+00, -2.6988e+00,\n",
              "          -1.5344e+00],\n",
              "         [-1.5279e+00,  2.9466e-02,  5.5665e-01, -6.5321e-01,  9.3418e-01,\n",
              "          -9.5731e-02],\n",
              "         [ 9.3529e-01,  6.7010e-01,  1.2162e+00,  9.3067e-04,  7.4975e-01,\n",
              "           9.5986e-01],\n",
              "         [ 1.0366e+00,  2.4387e-01, -1.0799e+00, -8.2493e-01, -4.3667e-01,\n",
              "          -6.7650e-01],\n",
              "         [ 1.5142e-01,  1.1248e+00, -2.8562e-01,  9.3403e-01,  1.5441e-01,\n",
              "           9.6482e-01]],\n",
              "\n",
              "        [[ 7.8759e-02,  1.2339e-01,  6.3382e-01,  3.8799e-02, -1.8610e-01,\n",
              "           7.9666e-01],\n",
              "         [-2.4091e-01, -6.3703e-01, -3.1361e-01,  8.7458e-01, -6.1336e-01,\n",
              "           5.5686e-01],\n",
              "         [-3.7986e-01, -1.5462e-03,  1.2705e+00, -8.2688e-01, -5.0351e-01,\n",
              "          -2.6533e+00],\n",
              "         [ 3.9346e-01,  3.0484e+00, -4.1172e-01, -3.8634e-01,  1.7481e+00,\n",
              "          -6.7884e-01],\n",
              "         [ 1.6978e-01,  6.1485e-01, -7.6977e-01, -1.0446e+00, -1.2272e+00,\n",
              "           5.2658e-01]],\n",
              "\n",
              "        [[ 3.5315e-01,  7.3414e-01, -2.9651e-01,  1.5017e-02, -5.4811e-01,\n",
              "          -1.4551e+00],\n",
              "         [-1.9917e-01,  1.7214e+00,  5.0588e-01, -2.3419e-01, -3.0501e-01,\n",
              "           1.5321e+00],\n",
              "         [-2.6231e-01, -2.4791e+00,  4.4694e-01,  1.4626e+00, -3.7099e-02,\n",
              "          -9.4572e-01],\n",
              "         [ 1.0147e+00,  1.8123e+00,  9.9954e-01,  3.5728e-02,  3.2858e-01,\n",
              "           5.6287e-01],\n",
              "         [-1.2652e+00, -3.8050e-01, -1.5232e+00,  1.5453e-01, -5.0680e-01,\n",
              "          -1.2415e+00]],\n",
              "\n",
              "        [[-7.1326e-03,  2.0780e+00,  2.8329e-01,  8.1463e-01, -1.5778e+00,\n",
              "          -9.9481e-01],\n",
              "         [-7.0311e-01,  2.7819e-01,  2.4385e-01,  1.2595e+00,  1.0188e+00,\n",
              "           1.6806e-01],\n",
              "         [-1.0229e-03, -2.2101e+00,  1.2981e+00, -1.2020e+00, -1.1965e+00,\n",
              "          -1.2022e+00],\n",
              "         [ 6.5126e-01, -8.3150e-02, -1.1460e+00,  5.4260e-01,  2.6102e-01,\n",
              "          -9.0248e-01],\n",
              "         [ 5.6598e-01, -4.6129e-01, -7.8277e-01,  1.3684e+00,  8.4582e-01,\n",
              "           7.9274e-01]]], grad_fn=<AddBackward0>)"
            ]
          },
          "metadata": {},
          "execution_count": 40
        }
      ]
    },
    {
      "cell_type": "code",
      "source": [
        "out.shape"
      ],
      "metadata": {
        "colab": {
          "base_uri": "https://localhost:8080/"
        },
        "id": "--KjutEmLrDi",
        "outputId": "8b1235af-6c88-41e9-ab21-a8c025b1d9f1"
      },
      "execution_count": 41,
      "outputs": [
        {
          "output_type": "execute_result",
          "data": {
            "text/plain": [
              "torch.Size([4, 5, 6])"
            ]
          },
          "metadata": {},
          "execution_count": 41
        }
      ]
    },
    {
      "cell_type": "code",
      "source": [],
      "metadata": {
        "id": "1xWc4dsXLs5r"
      },
      "execution_count": null,
      "outputs": []
    }
  ]
}