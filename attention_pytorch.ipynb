{
  "nbformat": 4,
  "nbformat_minor": 0,
  "metadata": {
    "colab": {
      "provenance": [],
      "authorship_tag": "ABX9TyNS0bvC5mBoY1OU36wH4ukx",
      "include_colab_link": true
    },
    "kernelspec": {
      "name": "python3",
      "display_name": "Python 3"
    },
    "language_info": {
      "name": "python"
    }
  },
  "cells": [
    {
      "cell_type": "markdown",
      "metadata": {
        "id": "view-in-github",
        "colab_type": "text"
      },
      "source": [
        "<a href=\"https://colab.research.google.com/github/AyoubMDL/transformers_from_scratch/blob/main/attention_pytorch.ipynb\" target=\"_parent\"><img src=\"https://colab.research.google.com/assets/colab-badge.svg\" alt=\"Open In Colab\"/></a>"
      ]
    },
    {
      "cell_type": "code",
      "execution_count": 1,
      "metadata": {
        "id": "DAK6NdWuTN3H"
      },
      "outputs": [],
      "source": [
        "import torch\n",
        "import math"
      ]
    },
    {
      "cell_type": "markdown",
      "source": [
        "Each word in a sequence is represented with a query, key and value"
      ],
      "metadata": {
        "id": "LLuZH3v2DPTG"
      }
    },
    {
      "cell_type": "code",
      "source": [
        "seq_length, hid_dim = 4, 8\n",
        "q = torch.randn(seq_length, hid_dim)\n",
        "k = torch.randn(seq_length, hid_dim)\n",
        "v = torch.randn(seq_length, hid_dim)"
      ],
      "metadata": {
        "id": "Uf1dc-_9TS1k"
      },
      "execution_count": 2,
      "outputs": []
    },
    {
      "cell_type": "markdown",
      "source": [
        "## Mask"
      ],
      "metadata": {
        "id": "ScKP8eobUj9X"
      }
    },
    {
      "cell_type": "markdown",
      "source": [
        "The mask is used in the decoder part"
      ],
      "metadata": {
        "id": "vdCeTHFqDgi6"
      }
    },
    {
      "cell_type": "code",
      "source": [
        "mask = torch.tril(torch.ones((seq_length, seq_length)))\n",
        "mask"
      ],
      "metadata": {
        "colab": {
          "base_uri": "https://localhost:8080/"
        },
        "id": "SlmY2lWxUhLP",
        "outputId": "ee1dae9d-ef96-4491-f324-222a76fe2956"
      },
      "execution_count": 8,
      "outputs": [
        {
          "output_type": "execute_result",
          "data": {
            "text/plain": [
              "tensor([[1., 0., 0., 0.],\n",
              "        [1., 1., 0., 0.],\n",
              "        [1., 1., 1., 0.],\n",
              "        [1., 1., 1., 1.]])"
            ]
          },
          "metadata": {},
          "execution_count": 8
        }
      ]
    },
    {
      "cell_type": "code",
      "source": [
        "mask[mask == 0] = -torch.inf\n",
        "mask[mask == 1] = 0"
      ],
      "metadata": {
        "id": "rXTs6MeUUsZX"
      },
      "execution_count": 9,
      "outputs": []
    },
    {
      "cell_type": "code",
      "source": [
        "mask"
      ],
      "metadata": {
        "colab": {
          "base_uri": "https://localhost:8080/"
        },
        "id": "-0LIUl3-VCgf",
        "outputId": "94d28b80-2ab9-4eed-8b10-47c62efdb858"
      },
      "execution_count": 10,
      "outputs": [
        {
          "output_type": "execute_result",
          "data": {
            "text/plain": [
              "tensor([[0., -inf, -inf, -inf],\n",
              "        [0., 0., -inf, -inf],\n",
              "        [0., 0., 0., -inf],\n",
              "        [0., 0., 0., 0.]])"
            ]
          },
          "metadata": {},
          "execution_count": 10
        }
      ]
    },
    {
      "cell_type": "code",
      "source": [
        "def softmax(x):\n",
        "    return (torch.exp(x).T / torch.sum(torch.exp(x), axis=-1)).T"
      ],
      "metadata": {
        "id": "yg2_3aJjUBJH"
      },
      "execution_count": 11,
      "outputs": []
    },
    {
      "cell_type": "code",
      "source": [
        "def scaled_dot_product_attention(q, k, v, mask=None):\n",
        "    d_k = q.shape[-1]\n",
        "    prod = torch.matmul(q, k.T)\n",
        "    scaled = prod/math.sqrt(d_k)\n",
        "\n",
        "    if mask is not None:\n",
        "        scaled += mask\n",
        "    \n",
        "    attention = softmax(scaled)\n",
        "    \n",
        "    #multiply with the value\n",
        "    out = torch.matmul(attention, v)\n",
        "\n",
        "    return out, attention"
      ],
      "metadata": {
        "id": "_lq-4rOMV0xv"
      },
      "execution_count": 19,
      "outputs": []
    },
    {
      "cell_type": "code",
      "source": [
        "context_vectors, attention = scaled_dot_product_attention(q, k, v)"
      ],
      "metadata": {
        "id": "11HLnmzhWe2B"
      },
      "execution_count": 21,
      "outputs": []
    },
    {
      "cell_type": "code",
      "source": [
        "context_vectors"
      ],
      "metadata": {
        "colab": {
          "base_uri": "https://localhost:8080/"
        },
        "id": "W2YOWpLCEKyi",
        "outputId": "22bbee2b-792e-415e-b578-6fea9d34e0d5"
      },
      "execution_count": 22,
      "outputs": [
        {
          "output_type": "execute_result",
          "data": {
            "text/plain": [
              "tensor([[-0.0629, -0.7108,  1.2975, -0.1208, -0.2076, -1.7786,  0.9569, -0.1328],\n",
              "        [-0.0214, -0.6624,  1.1605,  0.2065, -0.3132, -1.8920,  0.7031, -0.0079],\n",
              "        [ 0.3608, -0.0316,  0.8481,  0.0792, -0.2344, -0.4652, -0.5787,  0.6163],\n",
              "        [ 0.5420,  0.4159,  0.6575,  0.1071, -0.1018,  0.4453, -1.4695,  0.9779]])"
            ]
          },
          "metadata": {},
          "execution_count": 22
        }
      ]
    },
    {
      "cell_type": "code",
      "source": [
        "attention"
      ],
      "metadata": {
        "colab": {
          "base_uri": "https://localhost:8080/"
        },
        "id": "nKFaqzmaEMEr",
        "outputId": "e200c057-3955-4939-9c97-f218cd2dd928"
      },
      "execution_count": 23,
      "outputs": [
        {
          "output_type": "execute_result",
          "data": {
            "text/plain": [
              "tensor([[0.1490, 0.6234, 0.1139, 0.1136],\n",
              "        [0.0710, 0.6071, 0.2469, 0.0750],\n",
              "        [0.2467, 0.2406, 0.3402, 0.1725],\n",
              "        [0.3837, 0.0058, 0.4339, 0.1765]])"
            ]
          },
          "metadata": {},
          "execution_count": 23
        }
      ]
    }
  ]
}