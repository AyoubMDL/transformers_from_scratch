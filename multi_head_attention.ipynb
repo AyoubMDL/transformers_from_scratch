{
  "nbformat": 4,
  "nbformat_minor": 0,
  "metadata": {
    "colab": {
      "provenance": [],
      "authorship_tag": "ABX9TyNxWg3rQY44rbbdPg8CHeJq",
      "include_colab_link": true
    },
    "kernelspec": {
      "name": "python3",
      "display_name": "Python 3"
    },
    "language_info": {
      "name": "python"
    }
  },
  "cells": [
    {
      "cell_type": "markdown",
      "metadata": {
        "id": "view-in-github",
        "colab_type": "text"
      },
      "source": [
        "<a href=\"https://colab.research.google.com/github/AyoubMDL/transformers_from_scratch/blob/main/multi_head_attention.ipynb\" target=\"_parent\"><img src=\"https://colab.research.google.com/assets/colab-badge.svg\" alt=\"Open In Colab\"/></a>"
      ]
    },
    {
      "cell_type": "code",
      "execution_count": 1,
      "metadata": {
        "id": "AJpk1ToZtqvI"
      },
      "outputs": [],
      "source": [
        "import torch\n",
        "import torch.nn as nn\n",
        "import torch.nn.functional as F"
      ]
    },
    {
      "cell_type": "code",
      "source": [
        "# q.shape, k.shape, v.shape"
      ],
      "metadata": {
        "colab": {
          "base_uri": "https://localhost:8080/"
        },
        "id": "fzVAwhb84HjS",
        "outputId": "e0776365-c986-4f39-b402-d63562bfe2a3"
      },
      "execution_count": 12,
      "outputs": [
        {
          "output_type": "execute_result",
          "data": {
            "text/plain": [
              "(torch.Size([1, 8, 4, 64]),\n",
              " torch.Size([1, 8, 4, 64]),\n",
              " torch.Size([1, 8, 4, 64]))"
            ]
          },
          "metadata": {},
          "execution_count": 12
        }
      ]
    },
    {
      "cell_type": "code",
      "source": [
        "# mask = torch.full(scaled.size(), float('-inf'))\n",
        "# mask = torch.triu(mask, diagonal=1)"
      ],
      "metadata": {
        "id": "KDGrJjsp4w7y"
      },
      "execution_count": 24,
      "outputs": []
    },
    {
      "cell_type": "code",
      "source": [
        "import math\n",
        "\n",
        "def scaled_dot_product(q, k, v, mask=None):\n",
        "    d_k = q.size()[-1]\n",
        "    scaled = torch.matmul(q, k.transpose(-2, -1)) / math.sqrt(d_k)\n",
        "\n",
        "    if mask:\n",
        "        scaled += mask\n",
        "    \n",
        "    attention = F.softmax(scaled, dim=-1)\n",
        "    new_v = torch.matmul(attention, v)\n",
        "\n",
        "    return new_v, attention"
      ],
      "metadata": {
        "id": "txaSw-hW-NtP"
      },
      "execution_count": 10,
      "outputs": []
    },
    {
      "cell_type": "code",
      "source": [
        "class MultiHeadAttention(nn.Module):\n",
        "    def __init__(self, input_dim, d_model, num_heads):\n",
        "        super().__init__()\n",
        "        self.input_dim = input_dim\n",
        "        self.d_model = d_model\n",
        "        self.num_heads = num_heads \n",
        "        self.head_dim = d_model // num_heads\n",
        "        self.qkv_layer = nn.Linear(input_dim, 3 * d_model)\n",
        "        self.linear_layer = nn.Linear(d_model, d_model)\n",
        "    \n",
        "    def forward(self, x, mask=None):\n",
        "        # shape x : (batch_size, seq_length, emb_dim)\n",
        "        batch_size, seq_length, input_dim = x.size()\n",
        "\n",
        "        # shape qkv : (batch_size, seq_length, 3 * d_model)\n",
        "        qkv = self.qkv_layer(x)\n",
        "\n",
        "        # shape qkv : (batch_size, seq_length, num_heads, 3 * head_dim)\n",
        "        qkv = qkv.reshape(batch_size, seq_length, num_heads, 3 * self.head_dim)\n",
        "\n",
        "        # shape qkv : (batch_size, num_heads, seq_length, 3 * head_dim) | permute seq_length and num_heads in order to apply parallelism \n",
        "        qkv = qkv.permute(0, 2, 1, 3)\n",
        "\n",
        "        # shape q,k,v : (batch_size, num_heads, seq_length, head_dim)\n",
        "        q, k, v = qkv.chunk(3, dim=-1)\n",
        "\n",
        "        # shape values : (batch_size, num_heads, seq_length, head_dim)\n",
        "        # shape attention : (batch_size, num_heads, seq_length, seq_length)\n",
        "        values, attention = scaled_dot_product(q, k, v, mask)\n",
        "\n",
        "        # shape value : (batch_size, seq_length, d_model)\n",
        "        values = values.reshape(batch_size, seq_length, num_heads * self.head_dim)\n",
        "\n",
        "        out = self.linear_layer(values)\n",
        "\n",
        "        return out"
      ],
      "metadata": {
        "id": "zAIpfuuX8CHw"
      },
      "execution_count": 11,
      "outputs": []
    },
    {
      "cell_type": "code",
      "source": [
        "input_dim = 1024\n",
        "d_model = 512\n",
        "num_heads = 8\n",
        "\n",
        "batch_size = 10\n",
        "seq_length = 5\n",
        "\n",
        "x = torch.randn((batch_size, seq_length, input_dim))"
      ],
      "metadata": {
        "id": "doF88H0o-OpI"
      },
      "execution_count": 3,
      "outputs": []
    },
    {
      "cell_type": "code",
      "source": [
        "x.shape"
      ],
      "metadata": {
        "colab": {
          "base_uri": "https://localhost:8080/"
        },
        "id": "hYvekPg9-lqo",
        "outputId": "f484f5aa-7b9a-4417-ac97-cbac6e397fe3"
      },
      "execution_count": 4,
      "outputs": [
        {
          "output_type": "execute_result",
          "data": {
            "text/plain": [
              "torch.Size([10, 5, 1024])"
            ]
          },
          "metadata": {},
          "execution_count": 4
        }
      ]
    },
    {
      "cell_type": "code",
      "source": [
        "model = MultiHeadAttention(input_dim, d_model, num_heads)"
      ],
      "metadata": {
        "id": "ulOiekjO-mqk"
      },
      "execution_count": 12,
      "outputs": []
    },
    {
      "cell_type": "code",
      "source": [
        "out = model(x)"
      ],
      "metadata": {
        "id": "PoeLohP0-vzP"
      },
      "execution_count": 13,
      "outputs": []
    },
    {
      "cell_type": "code",
      "source": [
        "out.shape"
      ],
      "metadata": {
        "colab": {
          "base_uri": "https://localhost:8080/"
        },
        "id": "z8bt-rPv-xxI",
        "outputId": "e097fdf5-3e77-4b5a-cc21-bf418e4036e2"
      },
      "execution_count": 14,
      "outputs": [
        {
          "output_type": "execute_result",
          "data": {
            "text/plain": [
              "torch.Size([10, 5, 512])"
            ]
          },
          "metadata": {},
          "execution_count": 14
        }
      ]
    }
  ]
}